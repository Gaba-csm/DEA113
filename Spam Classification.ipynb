{
  "nbformat": 4,
  "nbformat_minor": 0,
  "metadata": {
    "colab": {
      "provenance": [],
      "authorship_tag": "ABX9TyMN7HbgKOujp/okTqbzrFGf",
      "include_colab_link": true
    },
    "kernelspec": {
      "name": "python3",
      "display_name": "Python 3"
    },
    "language_info": {
      "name": "python"
    }
  },
  "cells": [
    {
      "cell_type": "markdown",
      "metadata": {
        "id": "view-in-github",
        "colab_type": "text"
      },
      "source": [
        "<a href=\"https://colab.research.google.com/github/Gaba-csm/DEA113/blob/main/Spam%20Classification.ipynb\" target=\"_parent\"><img src=\"https://colab.research.google.com/assets/colab-badge.svg\" alt=\"Open In Colab\"/></a>"
      ]
    },
    {
      "cell_type": "markdown",
      "source": [
        "Python notebook exercise: Spam Classification\n",
        "1. Take atleast 10 sentences to train the model.\n",
        "2. Predict the output/Class of a new text data.\n",
        "3. Upload the notebook file/github link."
      ],
      "metadata": {
        "id": "6yMbDR0Je7Sk"
      }
    },
    {
      "cell_type": "code",
      "execution_count": 1,
      "metadata": {
        "colab": {
          "base_uri": "https://localhost:8080/"
        },
        "id": "As85Lid_e6Xl",
        "outputId": "5ebb5479-a0d6-406b-8ab7-16f33f81bbfc"
      },
      "outputs": [
        {
          "output_type": "stream",
          "name": "stdout",
          "text": [
            "['Spam']\n"
          ]
        }
      ],
      "source": [
        "# Text Classification\n",
        "\n",
        "import nltk\n",
        "from sklearn.feature_extraction.text import CountVectorizer\n",
        "from sklearn.naive_bayes import MultinomialNB\n",
        "\n",
        "# Training data\n",
        "documents = [\n",
        "    (\"Get a free iPhone now!\", \"Spam\"),\n",
        "    (\"Tomorrows work schedule\", \"Not Spam\"),\n",
        "    (\"Your account has been compromised, actions required\", \"Spam\"),\n",
        "    (\"Congratulations, you've won a lottery!\", \"Spam\"),\n",
        "    (\"I hope you are doing well\", \"Not Spam\"),\n",
        "    (\"Can you send me the link to the presentation?\", \"Not Spam\"),\n",
        "    (\"Urgent: Your computer has a virus, actions required\", \"Spam\"),\n",
        "    (\"Limited time offer – 50% off on everything!\", \"Spam\"),\n",
        "    (\"Let's meet at the cafe later\", \"Not Spam\"),\n",
        "    (\"Hey, how are you?\", \"Not Spam\")\n",
        "]\n",
        "\n",
        "# Prepare features and labels\n",
        "vectorizer = CountVectorizer()\n",
        "features = vectorizer.fit_transform([doc[0] for doc in documents])\n",
        "labels = [doc[1] for doc in documents]\n",
        "\n",
        "# Train a classifier (Naive Bayes)\n",
        "classifier = MultinomialNB()\n",
        "classifier.fit(features, labels)\n",
        "\n",
        "# Test with a new example\n",
        "new_example = vectorizer.transform([\"Win a free vacation package!\"])\n",
        "prediction = classifier.predict(new_example)\n",
        "print(prediction)"
      ]
    }
  ]
}